{
  "nbformat": 4,
  "nbformat_minor": 0,
  "metadata": {
    "colab": {
      "name": "Untitled11.ipynb",
      "provenance": []
    },
    "kernelspec": {
      "name": "python3",
      "display_name": "Python 3"
    }
  },
  "cells": [
    {
      "cell_type": "code",
      "metadata": {
        "id": "4KrWL68GhXHj",
        "colab_type": "code",
        "colab": {}
      },
      "source": [
        "#Home Work Question1\n",
        "\n",
        "import string\n",
        "\n",
        "fout = open('textbook.txt', 'r', encoding = 'UTF-8')\n",
        "words = open('words.txt','r')\n",
        "\n",
        "a = []\n",
        "textbook = {}\n",
        "words1 = {}\n",
        "words1 = words\n",
        "\n",
        "for i in fout: \n",
        "  new_book = i.split(\" \")  \n",
        "  for char in new_book:\n",
        "    new = char.lower()\n",
        "    new1 = new.strip(string.whitespace + string.punctuation)\n",
        "    new2 = new1.lower()\n",
        "    textbook = new2\n",
        "    \n",
        "    for char in words:\n",
        "      if new2 != char:\n",
        "        a = char\n",
        "      else:\n",
        "        pass \n",
        "\n",
        "\n",
        "print(a)  \n"
      ],
      "execution_count": 0,
      "outputs": []
    },
    {
      "cell_type": "code",
      "metadata": {
        "id": "9wirz-jHGucg",
        "colab_type": "code",
        "colab": {}
      },
      "source": [
        "z = textbook.difference(words1)\n",
        "z"
      ],
      "execution_count": 0,
      "outputs": []
    },
    {
      "cell_type": "code",
      "metadata": {
        "id": "-Fx3ouA1Hq09",
        "colab_type": "code",
        "colab": {}
      },
      "source": [
        ""
      ],
      "execution_count": 0,
      "outputs": []
    }
  ]
}