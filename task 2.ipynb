{
  "nbformat": 4,
  "nbformat_minor": 0,
  "metadata": {
    "colab": {
      "name": "Untitled14.ipynb",
      "provenance": []
    },
    "kernelspec": {
      "name": "python3",
      "display_name": "Python 3"
    }
  },
  "cells": [
    {
      "cell_type": "code",
      "metadata": {
        "id": "hp-VzCyHNKpW",
        "colab_type": "code",
        "colab": {}
      },
      "source": [
        "#Home Work Question1\n",
        "\n",
        "import string\n",
        "\n",
        "fout = open('textbook.txt', 'r', encoding = 'UTF-8')\n",
        "\n",
        "\n",
        "for i in fout: \n",
        "  new_book = i.split(\" \")  \n",
        "  for char in new_book:\n",
        "    new = char.lower()\n",
        "    new1 = new.strip(string.whitespace + string.punctuation)\n",
        "    new2 = new1.lower()  \n",
        "\n",
        "\n",
        "  print(new2)  \n"
      ],
      "execution_count": 0,
      "outputs": []
    },
    {
      "cell_type": "code",
      "metadata": {
        "id": "pObShHX_SKIG",
        "colab_type": "code",
        "colab": {}
      },
      "source": [
        "a = []\n",
        "a = new2\n",
        "for char in a:\n",
        "  count = count + 1\n",
        "\n",
        "print(count)\n"
      ],
      "execution_count": 0,
      "outputs": []
    },
    {
      "cell_type": "code",
      "metadata": {
        "id": "Dro9Fe7POhY5",
        "colab_type": "code",
        "colab": {}
      },
      "source": [
        "import collections      \n",
        " \n",
        "Counter = collections.Counter(new2)   \n",
        "\n",
        "most_occur = Counter.most_common(4) \n",
        "  \n",
        "print(most_occur)"
      ],
      "execution_count": 0,
      "outputs": []
    },
    {
      "cell_type": "code",
      "metadata": {
        "id": "y4Y_qwhVUQee",
        "colab_type": "code",
        "colab": {}
      },
      "source": [
        ""
      ],
      "execution_count": 0,
      "outputs": []
    }
  ]
}